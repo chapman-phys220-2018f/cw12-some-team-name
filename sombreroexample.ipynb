{
 "cells": [
  {
   "cell_type": "markdown",
   "metadata": {
    "collapsed": false
   },
   "source": [
    "V(x) = 1/4*x^4 - 1/2*x^2\n",
    "F = -d/dx V(x) = x-x^3\n",
    "mx'' = F + Fdrag + Fdrive\n",
    "Fdrag = \\nu * x'\n",
    "Fdrive = Fmax * cos(\\omega t)\n",
    "x'' = d^2/dt^2 x = d/dt [x'] = d/dt[v] = v'\n",
    "x' = v"
   ]
  }
 ],
 "metadata": {
  "kernelspec": {
   "display_name": "Python 3 (Anaconda 5)",
   "language": "python",
   "name": "anaconda5"
  }
 },
 "nbformat": 4,
 "nbformat_minor": 0
}